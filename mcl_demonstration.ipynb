{
 "cells": [
  {
   "cell_type": "code",
   "execution_count": 1,
   "metadata": {
    "collapsed": false
   },
   "outputs": [],
   "source": [
    "import matplotlib.pyplot as plt\n",
    "import pandas as pd\n",
    "import numpy as np\n",
    "import montecarlo_localization as mcl\n",
    "%load_ext autoreload\n",
    "%autoreload 2\n",
    "%matplotlib inline"
   ]
  },
  {
   "cell_type": "markdown",
   "metadata": {},
   "source": [
    "## Program structure"
   ]
  },
  {
   "cell_type": "code",
   "execution_count": 6,
   "metadata": {
    "collapsed": true
   },
   "outputs": [
    {
     "ename": "NameError",
     "evalue": "name 'new_particle_weight' is not defined",
     "output_type": "error",
     "traceback": [
      "\u001b[1;31m---------------------------------------------------------------------------\u001b[0m",
      "\u001b[1;31mNameError\u001b[0m                                 Traceback (most recent call last)",
      "\u001b[1;32m<ipython-input-6-d6f1c33d7814>\u001b[0m in \u001b[0;36m<module>\u001b[1;34m()\u001b[0m\n\u001b[0;32m     22\u001b[0m \u001b[1;31m# Main loop simulating time in the program\u001b[0m\u001b[1;33m\u001b[0m\u001b[1;33m\u001b[0m\u001b[0m\n\u001b[0;32m     23\u001b[0m \u001b[1;32mfor\u001b[0m \u001b[0mmsg\u001b[0m \u001b[1;32min\u001b[0m \u001b[0mlogdata\u001b[0m\u001b[1;33m.\u001b[0m\u001b[0mvalues\u001b[0m\u001b[1;33m:\u001b[0m\u001b[1;33m\u001b[0m\u001b[0m\n\u001b[1;32m---> 24\u001b[1;33m     \u001b[0mparticle_list\u001b[0m \u001b[1;33m=\u001b[0m \u001b[0mmcl\u001b[0m\u001b[1;33m.\u001b[0m\u001b[0mmcl_update\u001b[0m\u001b[1;33m(\u001b[0m\u001b[0mparticle_list\u001b[0m\u001b[1;33m,\u001b[0m \u001b[0mmsg\u001b[0m\u001b[1;33m)\u001b[0m \u001b[1;31m# Update\u001b[0m\u001b[1;33m\u001b[0m\u001b[0m\n\u001b[0m\u001b[0;32m     25\u001b[0m     \u001b[0mmcl\u001b[0m\u001b[1;33m.\u001b[0m\u001b[0mdraw_map_state\u001b[0m\u001b[1;33m(\u001b[0m\u001b[0mwean_hall_map\u001b[0m\u001b[1;33m,\u001b[0m \u001b[0mparticle_list\u001b[0m\u001b[1;33m)\u001b[0m\u001b[1;33m\u001b[0m\u001b[0m\n\u001b[0;32m     26\u001b[0m \u001b[1;33m\u001b[0m\u001b[0m\n",
      "\u001b[1;32mC:\\Users\\Erik\\Desktop\\work\\robostats\\HW4\\montecarlo_localization.py\u001b[0m in \u001b[0;36mmcl_update\u001b[1;34m(particle_list, msg)\u001b[0m\n\u001b[0;32m     17\u001b[0m     \u001b[1;32mfor\u001b[0m \u001b[0mparticle\u001b[0m \u001b[1;32min\u001b[0m \u001b[0mparticle_list\u001b[0m\u001b[1;33m:\u001b[0m\u001b[1;33m\u001b[0m\u001b[0m\n\u001b[0;32m     18\u001b[0m         \u001b[0mnew_pose\u001b[0m \u001b[1;33m=\u001b[0m \u001b[0mparticle\u001b[0m\u001b[1;33m.\u001b[0m\u001b[0msample_motion\u001b[0m\u001b[1;33m(\u001b[0m\u001b[0mmsg\u001b[0m\u001b[1;33m)\u001b[0m\u001b[1;33m\u001b[0m\u001b[0m\n\u001b[1;32m---> 19\u001b[1;33m         \u001b[0mnew_weight\u001b[0m \u001b[1;33m=\u001b[0m \u001b[0mparticle\u001b[0m\u001b[1;33m.\u001b[0m\u001b[0mmeasurement_likelihood\u001b[0m\u001b[1;33m(\u001b[0m\u001b[0mmsg\u001b[0m\u001b[1;33m)\u001b[0m\u001b[1;33m\u001b[0m\u001b[0m\n\u001b[0m\u001b[0;32m     20\u001b[0m \u001b[1;33m\u001b[0m\u001b[0m\n\u001b[0;32m     21\u001b[0m \u001b[1;33m\u001b[0m\u001b[0m\n",
      "\u001b[1;32mC:\\Users\\Erik\\Desktop\\work\\robostats\\HW4\\montecarlo_localization.py\u001b[0m in \u001b[0;36mmeasurement_likelihood\u001b[1;34m(self, msg)\u001b[0m\n\u001b[0;32m     60\u001b[0m         High if actual measurement matches model\"\"\"\n\u001b[0;32m     61\u001b[0m         \u001b[1;31m#TODO:\u001b[0m\u001b[1;33m\u001b[0m\u001b[1;33m\u001b[0m\u001b[0m\n\u001b[1;32m---> 62\u001b[1;33m         \u001b[1;32mreturn\u001b[0m \u001b[0mnew_particle_weight\u001b[0m\u001b[1;33m\u001b[0m\u001b[0m\n\u001b[0m\u001b[0;32m     63\u001b[0m \u001b[1;33m\u001b[0m\u001b[0m\n\u001b[0;32m     64\u001b[0m     \u001b[1;32mdef\u001b[0m \u001b[0msample_motion\u001b[0m\u001b[1;33m(\u001b[0m\u001b[0mself\u001b[0m\u001b[1;33m,\u001b[0m \u001b[0mmsg\u001b[0m\u001b[1;33m)\u001b[0m\u001b[1;33m:\u001b[0m\u001b[1;33m\u001b[0m\u001b[0m\n",
      "\u001b[1;31mNameError\u001b[0m: name 'new_particle_weight' is not defined"
     ]
    }
   ],
   "source": [
    "# Map exists which all robot particles operate in\n",
    "# Particles each have a motion model and a measurement model\n",
    "\n",
    "# Need to sample:\n",
    "#   Motion model for particle (given location of particle, map)\n",
    "#           Motion model (in this case) comes from log + noise. \n",
    "#   Measurement model for particle (given location, map)\n",
    "#           True measurements come from log\n",
    "\n",
    " \n",
    "wean_hall_map = mcl.occupancy_map('data/map/wean.dat')\n",
    "laser = mcl.laser_sensor()\n",
    "\n",
    "#Initialize 100 particles uniformly in valid locations on the map\n",
    "particle_list = [mcl.robot_particle(wean_hall_map, laser)\n",
    "                 for _ in range(100)]\n",
    "\n",
    "#Load in log data with absolute measurements in odometry frame\n",
    "logdata = mcl.load_log('data/log/robotdata1.log.gz')\n",
    "# each log msg: ['type','ts', 'x', 'y', 'theta', 'xl','yl', 'thetal', r1~r180]\n",
    "\n",
    "# Main loop simulating time in the program\n",
    "for msg in logdata.values:\n",
    "    particle_list = mcl.mcl_update(particle_list, msg) # Update\n",
    "    mcl.draw_map_state(wean_hall_map, particle_list)\n",
    "\n",
    "\n"
   ]
  },
  {
   "cell_type": "markdown",
   "metadata": {},
   "source": [
    "### View log data"
   ]
  },
  {
   "cell_type": "code",
   "execution_count": 7,
   "metadata": {
    "collapsed": true
   },
   "outputs": [],
   "source": [
    "logdata = mcl.load_log('data/log/robotdata1.log.gz')"
   ]
  },
  {
   "cell_type": "code",
   "execution_count": 8,
   "metadata": {
    "collapsed": false
   },
   "outputs": [],
   "source": [
    "logdata['x_rel'] = logdata['x'] - logdata.ix[0,'x']\n",
    "logdata['y_rel'] = logdata['y'] - logdata.ix[0,'y']\n",
    "logdata['theta_rel'] = logdata['theta'] - logdata.ix[0,'theta']\n",
    "logdata['xl_rel'] = logdata['xl'] - logdata.ix[0,'xl']\n",
    "logdata['yl_rel'] = logdata['yl'] - logdata.ix[0,'yl']\n",
    "logdata['thetal_rel'] = logdata['thetal'] - logdata.ix[0,'thetal']"
   ]
  },
  {
   "cell_type": "code",
   "execution_count": 9,
   "metadata": {
    "collapsed": false
   },
   "outputs": [],
   "source": [
    "logdata['dt'] = logdata['ts'].shift(-1) - logdata['ts']\n",
    "logdata['dx'] = logdata['x'].shift(-1) - logdata['x']\n",
    "logdata['dy'] = logdata['y'].shift(-1) - logdata['y']\n",
    "logdata['dtheta'] = logdata['theta'].shift(-1) - logdata['theta']\n",
    "logdata['dxl'] = logdata['xl'].shift(-1) - logdata['xl']\n",
    "logdata['dyl'] = logdata['yl'].shift(-1) - logdata['yl']\n",
    "logdata['dthetal'] = logdata['thetal'].shift(-1) - logdata['thetal']"
   ]
  },
  {
   "cell_type": "code",
   "execution_count": 10,
   "metadata": {
    "collapsed": false
   },
   "outputs": [
    {
     "data": {
      "text/plain": [
       "[<matplotlib.lines.Line2D at 0x4b309035c0>]"
      ]
     },
     "execution_count": 10,
     "metadata": {},
     "output_type": "execute_result"
    },
    {
     "data": {
      "image/png": "[encoded data removed]",
      "text/plain": [
       "<matplotlib.figure.Figure at 0x4b2e7ea198>"
      ]
     },
     "metadata": {},
     "output_type": "display_data"
    }
   ],
   "source": [
    "plt.plot(logdata['x_rel'], logdata['y_rel'])"
   ]
  },
  {
   "cell_type": "code",
   "execution_count": null,
   "metadata": {
    "collapsed": true
   },
   "outputs": [],
   "source": []
  },
  {
   "cell_type": "code",
   "execution_count": null,
   "metadata": {
    "collapsed": true
   },
   "outputs": [],
   "source": []
  }
 ],
 "metadata": {
  "kernelspec": {
   "display_name": "Python 3",
   "language": "python",
   "name": "python3"
  },
  "language_info": {
   "codemirror_mode": {
    "name": "ipython",
    "version": 3
   },
   "file_extension": ".py",
   "mimetype": "text/x-python",
   "name": "python",
   "nbconvert_exporter": "python",
   "pygments_lexer": "ipython3",
   "version": "3.5.0"
  }
 },
 "nbformat": 4,
 "nbformat_minor": 0
}
